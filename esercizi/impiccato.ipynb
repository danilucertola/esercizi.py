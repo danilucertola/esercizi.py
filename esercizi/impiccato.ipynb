{
  "cells": [
    {
      "cell_type": "code",
      "execution_count": 3,
      "metadata": {
        "id": "dEWxmkWc48Lz"
      },
      "outputs": [
        {
          "name": "stdout",
          "output_type": "stream",
          "text": [
            "La lettera è presente\n",
            " Hai ancora 7 vite\n"
          ]
        },
        {
          "ename": "AttributeError",
          "evalue": "'str' object has no attribute 'incognita'",
          "output_type": "error",
          "traceback": [
            "\u001b[0;31m---------------------------------------------------------------------------\u001b[0m",
            "\u001b[0;31mAttributeError\u001b[0m                            Traceback (most recent call last)",
            "\u001b[1;32m/workspaces/esercizi.py/esercizi/impiccato.ipynb Cella 1\u001b[0m line \u001b[0;36m3\n\u001b[1;32m     <a href='vscode-notebook-cell://codespaces%2Bjubilant-cod-r46gvxgwx452p6x/workspaces/esercizi.py/esercizi/impiccato.ipynb#W0sdnNjb2RlLXJlbW90ZQ%3D%3D?line=34'>35</a>\u001b[0m                 \u001b[39mprint\u001b[39m (parola_incognita)\n\u001b[1;32m     <a href='vscode-notebook-cell://codespaces%2Bjubilant-cod-r46gvxgwx452p6x/workspaces/esercizi.py/esercizi/impiccato.ipynb#W0sdnNjb2RlLXJlbW90ZQ%3D%3D?line=37'>38</a>\u001b[0m parola\u001b[39m=\u001b[39m \u001b[39minput\u001b[39m(\u001b[39m\"\u001b[39m\u001b[39mInserisci la parola\u001b[39m\u001b[39m\"\u001b[39m)\n\u001b[0;32m---> <a href='vscode-notebook-cell://codespaces%2Bjubilant-cod-r46gvxgwx452p6x/workspaces/esercizi.py/esercizi/impiccato.ipynb#W0sdnNjb2RlLXJlbW90ZQ%3D%3D?line=38'>39</a>\u001b[0m impiccato(parola)\n",
            "\u001b[1;32m/workspaces/esercizi.py/esercizi/impiccato.ipynb Cella 1\u001b[0m line \u001b[0;36m2\n\u001b[1;32m     <a href='vscode-notebook-cell://codespaces%2Bjubilant-cod-r46gvxgwx452p6x/workspaces/esercizi.py/esercizi/impiccato.ipynb#W0sdnNjb2RlLXJlbW90ZQ%3D%3D?line=25'>26</a>\u001b[0m         \u001b[39mif\u001b[39;00m lettera \u001b[39min\u001b[39;00m parola:\n\u001b[1;32m     <a href='vscode-notebook-cell://codespaces%2Bjubilant-cod-r46gvxgwx452p6x/workspaces/esercizi.py/esercizi/impiccato.ipynb#W0sdnNjb2RlLXJlbW90ZQ%3D%3D?line=26'>27</a>\u001b[0m             a\u001b[39m=\u001b[39mlettera\n\u001b[0;32m---> <a href='vscode-notebook-cell://codespaces%2Bjubilant-cod-r46gvxgwx452p6x/workspaces/esercizi.py/esercizi/impiccato.ipynb#W0sdnNjb2RlLXJlbW90ZQ%3D%3D?line=27'>28</a>\u001b[0m     \u001b[39mif\u001b[39;00m parola\u001b[39m==\u001b[39mparola\u001b[39m.\u001b[39;49mincognita:\n\u001b[1;32m     <a href='vscode-notebook-cell://codespaces%2Bjubilant-cod-r46gvxgwx452p6x/workspaces/esercizi.py/esercizi/impiccato.ipynb#W0sdnNjb2RlLXJlbW90ZQ%3D%3D?line=28'>29</a>\u001b[0m         \u001b[39mprint\u001b[39m(\u001b[39m\"\u001b[39m\u001b[39mhai vinto\u001b[39m\u001b[39m\"\u001b[39m)\n\u001b[1;32m     <a href='vscode-notebook-cell://codespaces%2Bjubilant-cod-r46gvxgwx452p6x/workspaces/esercizi.py/esercizi/impiccato.ipynb#W0sdnNjb2RlLXJlbW90ZQ%3D%3D?line=30'>31</a>\u001b[0m \u001b[39melse\u001b[39;00m:\n",
            "\u001b[0;31mAttributeError\u001b[0m: 'str' object has no attribute 'incognita'"
          ]
        }
      ],
      "source": [
        "# Es 8.1 Creare il gioco dell'impiccato\n",
        "# Suggerimento: per controllare se la lettera 'a' è presente all'interno della parola 'casa' si può usare:\n",
        "#\n",
        "# if 'a' in 'casa':\n",
        "#   print('Presente')\n",
        "#  ------\n",
        "#  |    |\n",
        "#  |    o\n",
        "#  |   \\|/\n",
        "#  |    |\n",
        "#  |   / \\\n",
        "#  |\n",
        "# ___  \n",
        "def impiccato(parola):\n",
        "    vite= 7\n",
        "    parola_incognita= []\n",
        "    for a in parola:\n",
        "        parola_incognita.append (\"_\")\n",
        "    while vite >= 0:\n",
        "        for a in parola:\n",
        "            lettera= input(\"Inserisci la lettera\")\n",
        "            if lettera in parola:\n",
        "                print(\"La lettera è presente\")\n",
        "                print(\" Hai ancora\",vite,\"vite\")\n",
        "                for a in parola_incognita:\n",
        "                    if lettera in parola:\n",
        "                        a=lettera\n",
        "                if parola==parola.incognita:\n",
        "                    print(\"hai vinto\")\n",
        "\n",
        "            else:\n",
        "                vite= vite-1\n",
        "                print(\"La lettera non è presente\")\n",
        "                print(\" Hai ancora\",vite,\"vite\")\n",
        "                print (parola_incognita)\n",
        "    \n",
        "\n",
        "parola= input(\"Inserisci la parola\")\n",
        "impiccato(parola)\n"
      ]
    }
  ],
  "metadata": {
    "colab": {
      "provenance": []
    },
    "kernelspec": {
      "display_name": "Python 3",
      "name": "python3"
    },
    "language_info": {
      "codemirror_mode": {
        "name": "ipython",
        "version": 3
      },
      "file_extension": ".py",
      "mimetype": "text/x-python",
      "name": "python",
      "nbconvert_exporter": "python",
      "pygments_lexer": "ipython3",
      "version": "3.10.8"
    }
  },
  "nbformat": 4,
  "nbformat_minor": 0
}
