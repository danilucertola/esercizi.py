{
  "cells": [
    {
      "cell_type": "code",
      "execution_count": 17,
      "metadata": {
        "id": "dEWxmkWc48Lz"
      },
      "outputs": [
        {
          "name": "stdout",
          "output_type": "stream",
          "text": [
            "La lettera è presente\n",
            " Hai ancora 7 vite\n",
            "a\n",
            "La lettera è presente\n",
            " Hai ancora 7 vite\n",
            "c\n",
            "La lettera è presente\n",
            " Hai ancora 7 vite\n",
            "s\n",
            "La lettera è presente\n",
            " Hai ancora 7 vite\n",
            "a\n",
            "La lettera non è presente\n",
            " Hai ancora 6 vite\n",
            "_\n",
            "La lettera non è presente\n",
            " Hai ancora 5 vite\n",
            "_\n",
            "La lettera non è presente\n",
            " Hai ancora 4 vite\n",
            "_\n",
            "La lettera non è presente\n",
            " Hai ancora 3 vite\n",
            "_\n",
            "La lettera non è presente\n",
            " Hai ancora 2 vite\n",
            "_\n",
            "La lettera non è presente\n",
            " Hai ancora 1 vite\n",
            "_\n",
            "La lettera non è presente\n",
            " Hai ancora 0 vite\n",
            "_\n",
            "La lettera non è presente\n",
            " Hai ancora -1 vite\n",
            "_\n"
          ]
        }
      ],
      "source": [
        "# Es 8.1 Creare il gioco dell'impiccato\n",
        "# Suggerimento: per controllare se la lettera 'a' è presente all'interno della parola 'casa' si può usare:\n",
        "#\n",
        "# if 'a' in 'casa':\n",
        "#   print('Presente')\n",
        "#  ------\n",
        "#  |    |\n",
        "#  |    o\n",
        "#  |   \\|/\n",
        "#  |    |\n",
        "#  |   / \\\n",
        "#  |\n",
        "# ___  \n",
        "def impiccato(parola):\n",
        "    vite= 7\n",
        "    \n",
        "    while vite >= 0:\n",
        "        for a in parola:\n",
        "            lettera= input(\"Inserisci la lettera\")\n",
        "            if lettera in parola:\n",
        "                print(\"La lettera è presente\")\n",
        "                print(\" Hai ancora\",vite,\"vite\")\n",
        "                print (lettera)\n",
        "            else:\n",
        "                vite= vite-1\n",
        "                print(\"La lettera non è presente\")\n",
        "                print(\" Hai ancora\",vite,\"vite\")\n",
        "                print (\"_\")\n",
        "\n",
        "\n",
        "parola= input(\"Inserisci la parola\")\n",
        "impiccato(parola)\n"
      ]
    }
  ],
  "metadata": {
    "colab": {
      "provenance": []
    },
    "kernelspec": {
      "display_name": "Python 3",
      "name": "python3"
    },
    "language_info": {
      "codemirror_mode": {
        "name": "ipython",
        "version": 3
      },
      "file_extension": ".py",
      "mimetype": "text/x-python",
      "name": "python",
      "nbconvert_exporter": "python",
      "pygments_lexer": "ipython3",
      "version": "3.10.8"
    }
  },
  "nbformat": 4,
  "nbformat_minor": 0
}
