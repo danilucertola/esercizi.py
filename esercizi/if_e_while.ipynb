{
  "cells": [
    {
      "cell_type": "markdown",
      "metadata": {
        "id": "HB3XbPDcSqe1"
      },
      "source": [
        "# Esercizi IF"
      ]
    },
    {
      "cell_type": "code",
      "execution_count": 42,
      "metadata": {
        "id": "0U7L9A29RfeT"
      },
      "outputs": [
        {
          "ename": "ValueError",
          "evalue": "invalid literal for int() with base 10: ''",
          "output_type": "error",
          "traceback": [
            "\u001b[0;31m---------------------------------------------------------------------------\u001b[0m",
            "\u001b[0;31mValueError\u001b[0m                                Traceback (most recent call last)",
            "\u001b[1;32m/workspaces/esercizi.py/esercizi/if_e_while.ipynb Cella 2\u001b[0m line \u001b[0;36m3\n\u001b[1;32m      <a href='vscode-notebook-cell://codespaces%2Bjubilant-cod-r46gvxgwx452p6x/workspaces/esercizi.py/esercizi/if_e_while.ipynb#W1sdnNjb2RlLXJlbW90ZQ%3D%3D?line=0'>1</a>\u001b[0m \u001b[39m# Es 4.1: Ottenere dall'utente un numero in input e scrivere a schermo \"Pari\" se il numero è pari, scrivere \"Dispari\" altrimenti\u001b[39;00m\n\u001b[0;32m----> <a href='vscode-notebook-cell://codespaces%2Bjubilant-cod-r46gvxgwx452p6x/workspaces/esercizi.py/esercizi/if_e_while.ipynb#W1sdnNjb2RlLXJlbW90ZQ%3D%3D?line=2'>3</a>\u001b[0m x \u001b[39m=\u001b[39m \u001b[39mint\u001b[39;49m(\u001b[39minput\u001b[39;49m(\u001b[39m\"\u001b[39;49m\u001b[39mInserisci un numero:\u001b[39;49m\u001b[39m\"\u001b[39;49m))\n\u001b[1;32m      <a href='vscode-notebook-cell://codespaces%2Bjubilant-cod-r46gvxgwx452p6x/workspaces/esercizi.py/esercizi/if_e_while.ipynb#W1sdnNjb2RlLXJlbW90ZQ%3D%3D?line=4'>5</a>\u001b[0m \u001b[39mif\u001b[39;00m x \u001b[39m%\u001b[39m \u001b[39m2\u001b[39m \u001b[39m==\u001b[39m \u001b[39m0\u001b[39m:\n\u001b[1;32m      <a href='vscode-notebook-cell://codespaces%2Bjubilant-cod-r46gvxgwx452p6x/workspaces/esercizi.py/esercizi/if_e_while.ipynb#W1sdnNjb2RlLXJlbW90ZQ%3D%3D?line=5'>6</a>\u001b[0m     \u001b[39mprint\u001b[39m (\u001b[39m\"\u001b[39m\u001b[39mIl numero \u001b[39m\u001b[39m\"\u001b[39m,x, \u001b[39m\"\u001b[39m\u001b[39mè pari\u001b[39m\u001b[39m\"\u001b[39m) \n",
            "\u001b[0;31mValueError\u001b[0m: invalid literal for int() with base 10: ''"
          ]
        }
      ],
      "source": [
        "# Es 4.1: Ottenere dall'utente un numero in input e scrivere a schermo \"Pari\" se il numero è pari, scrivere \"Dispari\" altrimenti\n",
        "\n",
        "x = int(input(\"Inserisci un numero:\"))\n",
        "\n",
        "if x % 2 == 0:\n",
        "    print (\"Il numero \",x, \"è pari\") \n",
        "if x % 2 == 1:\n",
        "    print (\"Il numero \",x, \"è dsipari\") "
      ]
    },
    {
      "cell_type": "code",
      "execution_count": null,
      "metadata": {
        "id": "gE3RVr9ORuwP"
      },
      "outputs": [
        {
          "name": "stdout",
          "output_type": "stream",
          "text": [
            "Non è un triangolo\n"
          ]
        }
      ],
      "source": [
        "# Es 4.2: Ottenere dall'utente tre angoli caso siano i tre angoli di un triangolo scrivere a schermo \"È un triangolo\", altrimenti \"Non è un triangolo\"\n",
        "\n",
        "a=float(input(\"inserisci un angolo\"))\n",
        "b=float(input(\"inserisci un angolo\"))\n",
        "c=float(input(\"inserisci un angolo\"))\n",
        "\n",
        "somma = a+b+c\n",
        "\n",
        "if somma == 180 :\n",
        "    print (\"È un triangolo\")\n",
        "else:\n",
        "    print (\"Non è un triangolo\")\n"
      ]
    },
    {
      "cell_type": "code",
      "execution_count": null,
      "metadata": {
        "id": "r1A_DavcSKgi"
      },
      "outputs": [
        {
          "name": "stdout",
          "output_type": "stream",
          "text": [
            "È un triangolo rettangolo\n"
          ]
        }
      ],
      "source": [
        "# Es 4.3: Ottenuti dall'utente tre angoli di un tringolo scrivere a schermo se i tre angoli descrivono un triangolo rettangolo o no\n",
        "\n",
        "a=float(input(\"inserisci un angolo\"))\n",
        "b=float(input(\"inserisci un angolo\"))\n",
        "c=float(input(\"inserisci un angolo\"))\n",
        "\n",
        "somma = a+b+c\n",
        "\n",
        "if somma == 180 and a==90 :\n",
        "    print (\"È un triangolo rettangolo\")\n",
        "if somma == 180 and b==90 :\n",
        "    print (\"È un triangolo rettangolo\")\n",
        "if somma == 180 and c==90 :\n",
        "    print (\"È un triangolo rettangolo\")\n",
        "if somma > 180 and somma < 180 :\n",
        "    print (\"Non è un triangolo\")\n",
        "    if a!=90 and b!=90 and c!=90 :\n",
        "        print (\"Non è neanche un triangolo rettangolo\")\n"
      ]
    },
    {
      "cell_type": "code",
      "execution_count": null,
      "metadata": {
        "id": "iA9D4X_GSims"
      },
      "outputs": [
        {
          "name": "stdout",
          "output_type": "stream",
          "text": [
            "È un triangolo equilatero\n"
          ]
        }
      ],
      "source": [
        "# Es 4.4: Ottenuti dall'utente tre angoli di un tringolo scrivere a schermo se i tre angoli descrivono un triangolo equilatero o no\n",
        "a=float(input(\"inserisci un angolo\"))\n",
        "b=float(input(\"inserisci un angolo\"))\n",
        "c=float(input(\"inserisci un angolo\"))\n",
        "\n",
        "somma = a+b+c\n",
        "\n",
        "if somma==180 and a==60 and b==60 and c==60 :\n",
        "    print (\"È un triangolo equilatero\")\n",
        "else:\n",
        "    print(\"Non è un triangolo equilatero\")\n",
        "if somma > 180 and somma < 180 :\n",
        "    print (\"Non è un triangolo\")\n",
        "\n",
        "    "
      ]
    },
    {
      "cell_type": "code",
      "execution_count": null,
      "metadata": {
        "id": "8q4gadoTSU7J"
      },
      "outputs": [
        {
          "name": "stdout",
          "output_type": "stream",
          "text": [
            "È un triangolo isoscele\n"
          ]
        }
      ],
      "source": [
        "# Es 4.5: Ottenuti dall'utente tre angoli di un tringolo scrivere a schermo se i tre angoli descrivono un triangolo isocele o no\n",
        "a=float(input(\"inserisci un angolo\"))\n",
        "b=float(input(\"inserisci un angolo\"))\n",
        "c=float(input(\"inserisci un angolo\"))\n",
        "\n",
        "somma=a+b+c\n",
        "\n",
        "if somma==180 and a == b or b == c or c == a:\n",
        "    print(\"È un triangolo isoscele\")\n",
        "if somma > 180 and somma < 180 :\n",
        "    print (\"Non è un triangolo\")"
      ]
    },
    {
      "cell_type": "code",
      "execution_count": 43,
      "metadata": {
        "id": "yVIE2kK3SYlq"
      },
      "outputs": [],
      "source": [
        "# Es 4.6: Ottenuti dall'utente tre angoli di un tringolo scrivere a schermo se i tre angoli descr20ivono un triangolo isocele, rettagolo, equilatero o scaleno\n",
        "a=float(input(\"inserisci un angolo\"))\n",
        "b=float(input(\"inserisci un angolo\"))\n",
        "c=float(input(\"inserisci un angolo\"))\n",
        "\n",
        "somma=a+b+c\n",
        "\n",
        "if somma > 180 and somma < 180 :\n",
        "    print (\"Non è un triangolo\")\n",
        "if somma==180 and a!=b and b!=c and a!=c and a!=90 and b!=90 and c!=90:\n",
        "    print(\"Il triangolo è scaleno\")\n",
        "if somma==180 and a==60 and b==60 and c==60:\n",
        "    print (\"È un triangolo equilatero\")\n",
        "if somma == 180 and a==90 or b==90 or c==90:\n",
        "    print (\"È un triangolo rettangolo\")\n",
        "\n",
        "    "
      ]
    },
    {
      "cell_type": "markdown",
      "metadata": {
        "id": "ef5snVxLqeQh"
      },
      "source": [
        "# Esercizi WHILE\n"
      ]
    },
    {
      "cell_type": "code",
      "execution_count": null,
      "metadata": {
        "id": "j61RqiHxqdmh"
      },
      "outputs": [],
      "source": [
        "# Es 4.7: Creare una funzione print_n(n,v) che stampi n volte il. contenuto di v\n",
        "def print_n(n,v):\n",
        "    while n!=0:\n",
        "        print(v)\n",
        "        n=n-1\n",
        "n1 = int(input(\"Inserisci un numero:\"))\n",
        "n2 = int(input(\"Inserisci un numero:\"))\n",
        "print_n(n1,n2)"
      ]
    },
    {
      "cell_type": "code",
      "execution_count": null,
      "metadata": {
        "colab": {
          "base_uri": "https://localhost:8080/"
        },
        "id": "-6lAm-hfq9w9",
        "outputId": "399e82ba-3cfe-475f-f8df-0e156677ec75"
      },
      "outputs": [
        {
          "name": "stdout",
          "output_type": "stream",
          "text": [
            "il numero da te inserito è divisibile per:\n",
            "1\n"
          ]
        }
      ],
      "source": [
        "# Es 4.8: Inserito il numero n dire per quali numeri, compresi tra 1 e n, è divisibile.\n",
        "# Inserisco 10: stampo 1,2,5\n",
        "# Inserisco 7: stampo 1\n",
        "n = int(input(\"Inserisci un numero:\"))\n",
        "d=n\n",
        "print(\"il numero da te inserito è divisibile per:\")\n",
        "while n!=0:\n",
        "    if d%n==0 and d!=n:\n",
        "        print(n)\n",
        "    n=n-1\n"
      ]
    },
    {
      "cell_type": "code",
      "execution_count": null,
      "metadata": {
        "colab": {
          "base_uri": "https://localhost:8080/"
        },
        "id": "GjC4LdR7rP-b",
        "outputId": "9f539b4d-c307-479a-da13-610a7e1cc46e"
      },
      "outputs": [],
      "source": [
        "# Es 4.9: Inserito il numero n dire se è primo o no\n"
      ]
    },
    {
      "cell_type": "code",
      "execution_count": null,
      "metadata": {
        "colab": {
          "base_uri": "https://localhost:8080/"
        },
        "id": "CxtWnOdHsTv4",
        "outputId": "5d874410-cb07-46a2-9c22-83d541b7a91a"
      },
      "outputs": [],
      "source": [
        "# Es 4.10: Creare la funzione moltiplica che restituisce il prodotto tra due numeri senza utilizzare *\n",
        "# 3*4 è uguale a 4+4+4\n"
      ]
    }
  ],
  "metadata": {
    "colab": {
      "provenance": []
    },
    "kernelspec": {
      "display_name": "Python 3",
      "name": "python3"
    },
    "language_info": {
      "codemirror_mode": {
        "name": "ipython",
        "version": 3
      },
      "file_extension": ".py",
      "mimetype": "text/x-python",
      "name": "python",
      "nbconvert_exporter": "python",
      "pygments_lexer": "ipython3",
      "version": "3.10.8"
    }
  },
  "nbformat": 4,
  "nbformat_minor": 0
}
