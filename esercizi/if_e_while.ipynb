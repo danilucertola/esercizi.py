{
  "cells": [
    {
      "cell_type": "markdown",
      "metadata": {
        "id": "HB3XbPDcSqe1"
      },
      "source": [
        "# Esercizi IF"
      ]
    },
    {
      "cell_type": "code",
      "execution_count": null,
      "metadata": {
        "id": "0U7L9A29RfeT"
      },
      "outputs": [],
      "source": [
        "# Es 4.1: Ottenere dall'utente un numero in input e scrivere a schermo \"Pari\" se il numero è pari, scrivere \"Dispari\" altrimenti\n",
        "\n",
        "x = int(input(\"Inserisci un numero:\"))\n",
        "\n",
        "if x % 2 == 0:\n",
        "    print (\"Il numero \",x, \"è pari\") \n",
        "if x % 2 == 1:\n",
        "    print (\"Il numero \",x, \"è dsipari\") "
      ]
    },
    {
      "cell_type": "code",
      "execution_count": null,
      "metadata": {
        "id": "gE3RVr9ORuwP"
      },
      "outputs": [
        {
          "name": "stdout",
          "output_type": "stream",
          "text": [
            "Non è un triangolo\n"
          ]
        }
      ],
      "source": [
        "# Es 4.2: Ottenere dall'utente tre angoli caso siano i tre angoli di un triangolo scrivere a schermo \"È un triangolo\", altrimenti \"Non è un triangolo\"\n",
        "\n",
        "a=float(input(\"inserisci un angolo\"))\n",
        "b=float(input(\"inserisci un angolo\"))\n",
        "c=float(input(\"inserisci un angolo\"))\n",
        "\n",
        "somma = a+b+c\n",
        "\n",
        "if somma == 180 :\n",
        "    print (\"È un triangolo\")\n",
        "else:\n",
        "    print (\"Non è un triangolo\")\n"
      ]
    },
    {
      "cell_type": "code",
      "execution_count": null,
      "metadata": {
        "id": "r1A_DavcSKgi"
      },
      "outputs": [
        {
          "name": "stdout",
          "output_type": "stream",
          "text": [
            "È un triangolo rettangolo\n"
          ]
        }
      ],
      "source": [
        "# Es 4.3: Ottenuti dall'utente tre angoli di un tringolo scrivere a schermo se i tre angoli descrivono un triangolo rettangolo o no\n",
        "\n",
        "a=float(input(\"inserisci un angolo\"))\n",
        "b=float(input(\"inserisci un angolo\"))\n",
        "c=float(input(\"inserisci un angolo\"))\n",
        "\n",
        "somma = a+b+c\n",
        "\n",
        "if somma == 180 and a==90 :\n",
        "    print (\"È un triangolo rettangolo\")\n",
        "if somma == 180 and b==90 :\n",
        "    print (\"È un triangolo rettangolo\")\n",
        "if somma == 180 and c==90 :\n",
        "    print (\"È un triangolo rettangolo\")\n",
        "if somma > 180 or somma < 180 :\n",
        "    print (\"Non è un triangolo\")\n",
        "    if a!=90 and b!=90 and c!=90 :\n",
        "        print (\"Non è neanche un triangolo rettangolo\")\n"
      ]
    },
    {
      "cell_type": "code",
      "execution_count": null,
      "metadata": {
        "id": "iA9D4X_GSims"
      },
      "outputs": [
        {
          "name": "stdout",
          "output_type": "stream",
          "text": [
            "È un triangolo equilatero\n"
          ]
        }
      ],
      "source": [
        "# Es 4.4: Ottenuti dall'utente tre angoli di un tringolo scrivere a schermo se i tre angoli descrivono un triangolo equilatero o no\n",
        "a=float(input(\"inserisci un angolo\"))\n",
        "b=float(input(\"inserisci un angolo\"))\n",
        "c=float(input(\"inserisci un angolo\"))\n",
        "\n",
        "somma = a+b+c\n",
        "\n",
        "if somma==180 and a==60 and b==60 and c==60 :\n",
        "    print (\"È un triangolo equilatero\")\n",
        "else:\n",
        "    print(\"Non è un triangolo equilatero\")\n",
        "if somma > 180 or somma < 180 :\n",
        "    print (\"Non è un triangolo\")\n",
        "\n",
        "    "
      ]
    },
    {
      "cell_type": "code",
      "execution_count": 1,
      "metadata": {
        "id": "8q4gadoTSU7J"
      },
      "outputs": [
        {
          "name": "stdout",
          "output_type": "stream",
          "text": [
            "Non è un triangolo\n"
          ]
        }
      ],
      "source": [
        "# Es 4.5: Ottenuti dall'utente tre angoli di un tringolo scrivere a schermo se i tre angoli descrivono un triangolo isocele o no\n",
        "a=float(input(\"inserisci un angolo\"))\n",
        "b=float(input(\"inserisci un angolo\"))\n",
        "c=float(input(\"inserisci un angolo\"))\n",
        "\n",
        "somma=a+b+c\n",
        "\n",
        "if somma==180 and a == b or b == c or c == a:\n",
        "    print(\"È un triangolo isoscele\")\n",
        "if somma > 180 or somma < 180 :\n",
        "    print (\"Non è un triangolo\")"
      ]
    },
    {
      "cell_type": "code",
      "execution_count": null,
      "metadata": {
        "id": "yVIE2kK3SYlq"
      },
      "outputs": [],
      "source": [
        "# Es 4.6: Ottenuti dall'utente tre angoli di un tringolo scrivere a schermo se i tre angoli descrivono un triangolo isocele, rettagolo, equilatero o scaleno\n",
        "a=float(input(\"inserisci un angolo\"))\n",
        "b=float(input(\"inserisci un angolo\"))\n",
        "c=float(input(\"inserisci un angolo\"))\n",
        "\n",
        "somma=a+b+c\n",
        "\n",
        "if somma > 180 and somma < 180 :\n",
        "    print (\"Non è un triangolo\")\n",
        "if somma==180 and a!=b and b!=c and a!=c and a!=90 and b!=90 and c!=90:\n",
        "    print(\"Il triangolo è scaleno\")\n",
        "if somma==180 and a==60 and b==60 and c==60:\n",
        "    print (\"È un triangolo equilatero\")\n",
        "if somma == 180 and a==90 or b==90 or c==90:\n",
        "    print (\"È un triangolo rettangolo\")\n",
        "if somma==180 and a == b or b == c or c == a:\n",
        "    print(\"È un triangolo isoscele\")\n",
        "\n",
        "    "
      ]
    },
    {
      "cell_type": "markdown",
      "metadata": {
        "id": "ef5snVxLqeQh"
      },
      "source": [
        "# Esercizi WHILE\n"
      ]
    },
    {
      "cell_type": "code",
      "execution_count": null,
      "metadata": {
        "id": "j61RqiHxqdmh"
      },
      "outputs": [],
      "source": [
        "# Es 4.7: Creare una funzione print_n(n,v) che stampi n volte il. contenuto di v\n",
        "def print_n(n,v):\n",
        "    while n!=0:\n",
        "        print(v)\n",
        "        n=n-1\n",
        "n1 = int(input(\"Inserisci un numero:\"))\n",
        "n2 = int(input(\"Inserisci un numero:\"))\n",
        "print_n(n1,n2)"
      ]
    },
    {
      "cell_type": "code",
      "execution_count": null,
      "metadata": {
        "colab": {
          "base_uri": "https://localhost:8080/"
        },
        "id": "-6lAm-hfq9w9",
        "outputId": "399e82ba-3cfe-475f-f8df-0e156677ec75"
      },
      "outputs": [
        {
          "name": "stdout",
          "output_type": "stream",
          "text": [
            "il numero da te inserito è divisibile per:\n",
            "1\n"
          ]
        }
      ],
      "source": [
        "# Es 4.8: Inserito il numero n dire per quali numeri, compresi tra 1 e n, è divisibile.\n",
        "# Inserisco 10: stampo 1,2,5\n",
        "# Inserisco 7: stampo 1\n",
        "n = int(input(\"Inserisci un numero:\"))\n",
        "d=n\n",
        "print(\"il numero da te inserito è divisibile per:\")\n",
        "while n!=0:\n",
        "    if d%n==0 and d!=n:\n",
        "        print(n)\n",
        "    n=n-1\n"
      ]
    },
    {
      "cell_type": "code",
      "execution_count": 13,
      "metadata": {
        "colab": {
          "base_uri": "https://localhost:8080/"
        },
        "id": "GjC4LdR7rP-b",
        "outputId": "9f539b4d-c307-479a-da13-610a7e1cc46e"
      },
      "outputs": [
        {
          "name": "stdout",
          "output_type": "stream",
          "text": [
            "il numero è un numero primo\n"
          ]
        }
      ],
      "source": [
        "# Es 4.9: Inserito il numero n dire se è primo o no\n",
        "\n",
        "n = int(input(\"Inserisci un numero:\"))\n",
        "d=n\n",
        "a=0\n",
        "while n!=0:\n",
        "    if d%n==0:\n",
        "        a=a+1\n",
        "    n=n-1\n",
        "if a>2:\n",
        "    print(\"il numero non è un numero primo\")\n",
        "else:\n",
        "    print(\"il numero è un numero primo\")"
      ]
    },
    {
      "cell_type": "code",
      "execution_count": 15,
      "metadata": {
        "colab": {
          "base_uri": "https://localhost:8080/"
        },
        "id": "CxtWnOdHsTv4",
        "outputId": "5d874410-cb07-46a2-9c22-83d541b7a91a"
      },
      "outputs": [
        {
          "name": "stdout",
          "output_type": "stream",
          "text": [
            "56\n"
          ]
        }
      ],
      "source": [
        "# Es 4.10: Creare la funzione moltiplica che restituisce il prodotto tra due numeri senza utilizzare *\n",
        "# 3*4 è uguale a 4+4+4\n",
        "def moltiplica(a,b):\n",
        "    prodotto=0\n",
        "    while b!=0:\n",
        "        prodotto=prodotto + a\n",
        "        b = b - 1\n",
        "    print(prodotto)\n",
        "\n",
        "n1 = int(input(\"Inserisci un numero:\"))\n",
        "n2 = int(input(\"Inserisci un numero:\"))\n",
        "moltiplica(n1,n2)\n"
      ]
    }
  ],
  "metadata": {
    "colab": {
      "provenance": []
    },
    "kernelspec": {
      "display_name": "Python 3",
      "name": "python3"
    },
    "language_info": {
      "codemirror_mode": {
        "name": "ipython",
        "version": 3
      },
      "file_extension": ".py",
      "mimetype": "text/x-python",
      "name": "python",
      "nbconvert_exporter": "python",
      "pygments_lexer": "ipython3",
      "version": "3.10.8"
    }
  },
  "nbformat": 4,
  "nbformat_minor": 0
}
