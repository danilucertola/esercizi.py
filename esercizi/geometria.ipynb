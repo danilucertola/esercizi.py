{
  "cells": [
    {
      "cell_type": "markdown",
      "metadata": {
        "id": "HB3XbPDcSqe1"
      },
      "source": [
        "# Esercizi Geometrici"
      ]
    },
    {
      "cell_type": "markdown",
      "metadata": {
        "id": "LCcywn6v2KxD"
      },
      "source": [
        "In Python per stampare consecutivamente più parole senza creare una riga per ognuna bisogna usare il seguente codice:\n"
      ]
    },
    {
      "cell_type": "code",
      "execution_count": null,
      "metadata": {
        "colab": {
          "base_uri": "https://localhost:8080/"
        },
        "id": "PHdyo8E42sza",
        "outputId": "fb51a75d-54ef-48c3-f6ad-342834d2738b"
      },
      "outputs": [],
      "source": [
        "print(\"Parola 1\", end=\" \")\n",
        "print(\"Parola 2\", end=\".\\n\")\n",
        "print(\"Parola 3\")\n",
        "\n"
      ]
    },
    {
      "cell_type": "code",
      "execution_count": null,
      "metadata": {
        "colab": {
          "base_uri": "https://localhost:8080/"
        },
        "id": "0U7L9A29RfeT",
        "outputId": "ccdd9b72-55df-486a-a68d-cfe73e90461d"
      },
      "outputs": [],
      "source": [
        "# Es 6.1: Scrivi la funzione quadrato(n) che stampi a schermo un quadrato di lato nxn formato utilizzando il carattere *\n",
        "#         Esempio:    3 ->  * * *       4 ->  * * * *\n",
        "#                           * * *             * * * *\n",
        "#                           * * *             * * * *\n",
        "#                                             * * * *\n",
        "def quadrato(n):\n",
        "    l=n\n",
        "    while n>0:\n",
        "        for a in range(l):\n",
        "            print(\"*\", end=\"  \")\n",
        "        print( )\n",
        "        n=n-1\n",
        "\n",
        "lato=int(input(\"inserisci il valore del lato\"))\n",
        "quadrato(lato)"
      ]
    },
    {
      "cell_type": "code",
      "execution_count": null,
      "metadata": {
        "id": "gE3RVr9ORuwP"
      },
      "outputs": [],
      "source": [
        "# Es 6.2: Scrivi la funzione rettangolo(n) che stampi a schermo un rettangolo di lato nx2n formato utilizzando il carattere *\n",
        "#         Esempio:    3 ->  * * * * * *         4 ->  * * * * * * * *\n",
        "#                           * * * * * *               * * * * * * * *\n",
        "#                           * * * * * *               * * * * * * * *\n",
        "#                                                     * * * * * * * *\n",
        "\n",
        "def rettangolo(n,n2):\n",
        "    l=n2\n",
        "    while n>0:\n",
        "        for a in range(l):\n",
        "            print(\"*\", end=\"  \")\n",
        "        print( )\n",
        "        n=n-1\n",
        "\n",
        "lato1=int(input(\"inserisci il valore del primo lato\"))\n",
        "lato2=int(input(\"inserisci il valore del primo lato\"))\n",
        "rettangolo(lato1,lato2)\n"
      ]
    },
    {
      "cell_type": "code",
      "execution_count": 17,
      "metadata": {
        "id": "r1A_DavcSKgi"
      },
      "outputs": [
        {
          "name": "stdout",
          "output_type": "stream",
          "text": [
            "*  *  *  \n",
            "*  *  \n",
            "*  \n",
            "\n",
            "*  \n",
            "*  *  \n",
            "*  *  *  \n"
          ]
        }
      ],
      "source": [
        "# Es 6.3: Scrivi la funzione triangolo_rettangolo(n) che stampi a schermo un triangolo di cateti n e n formato utilizzando il carattere *\n",
        "#         Esempio:    3 ->  *           4 ->  *\n",
        "#                           * *               * *\n",
        "#                           * * *             * * *\n",
        "#                                             * * * *\n",
        "\n",
        "def triangolo_rettangolo_storto(b,h):\n",
        "    l=h\n",
        "    while b>0:\n",
        "        for a in range(l):\n",
        "            print(\"*\", end=\"  \")\n",
        "        print( )\n",
        "        b=b-1\n",
        "        l=l-1\n",
        "def triangolo_rettangolo_dritto(b1,h1):\n",
        "    l1=1\n",
        "    while b1>0 and l1<=h1:\n",
        "        for a in range(l1):\n",
        "            print(\"*\", end=\"  \")\n",
        "        print( )\n",
        "        b1=b1-1\n",
        "        l1=l1+1\n",
        "base=int(input(\"inserisci il valore della base\"))\n",
        "altezza=int(input(\"inserisci il valore dell'altezza\"))\n",
        "triangolo_rettangolo_storto(base,altezza)\n",
        "print( )\n",
        "triangolo_rettangolo_dritto(base,altezza)"
      ]
    },
    {
      "cell_type": "code",
      "execution_count": 18,
      "metadata": {
        "id": "iA9D4X_GSims"
      },
      "outputs": [
        {
          "name": "stdout",
          "output_type": "stream",
          "text": [
            "*  *  *  *  *  \n",
            "*           *  \n",
            "*           *  \n",
            "*           *  \n",
            "*  *  *  *  *  \n"
          ]
        }
      ],
      "source": [
        "# Es 6.4: Scrivi la funzione bordo_quadrato(n) che stampi a schermo un quadrato di lato nxn formato utilizzando il carattere * come contorno\n",
        "#         Esempio:    3 ->  * * *       4 ->  * * * *\n",
        "#                           *   *             *     *\n",
        "#                           * * *             *     *\n",
        "#                                             * * * *\n",
        "def bordo_quadrato(n):\n",
        "    \n",
        "    for a in range(n):\n",
        "        for b in range(n):\n",
        "            if a==0 or a==n-1 or b==0 or b==n-1:\n",
        "                print(\"*\", end=\"  \")\n",
        "            else:\n",
        "                print(\" \", end=\"  \" )\n",
        "        print ( )   \n",
        "        \n",
        "\n",
        "lato=int(input(\"inserisci il valore della base\"))\n",
        "bordo_quadrato(lato)"
      ]
    },
    {
      "cell_type": "code",
      "execution_count": 19,
      "metadata": {
        "colab": {
          "base_uri": "https://localhost:8080/"
        },
        "id": "1vlDMqo_4uNc",
        "outputId": "de4cc1b2-7110-4ad6-b86c-d67c5756c074"
      },
      "outputs": [
        {
          "name": "stdout",
          "output_type": "stream",
          "text": [
            "/  -  -  -  \\  \n",
            "|           |  \n",
            "|           |  \n",
            "|           |  \n",
            "\\  -  -  -  /  \n"
          ]
        }
      ],
      "source": [
        "# Es 6.5: Scrivi la funzione bordo_quadrato_bello(n) che stampi a schermo un quadrato di lato nxn formato utilizzando iseguenti caratteri:\n",
        "#         Esempio:    3 ->  / - \\       4 ->  / - - \\\n",
        "#                           |   |             |     |\n",
        "#                           \\ - /             |     |\n",
        "#                                             \\ - - /\n",
        "# Per stampare \\ dovete utilizzare \"\\\\\" ovvero print(\"\\\\\")\n",
        "def bordo_quadrato(n):\n",
        "\n",
        "    for a in range(n):\n",
        "        for b in range(n):\n",
        "            if (a==n-1 and b==n-1) or (a==0 and b==0):\n",
        "                print(\"/\", end=\"  \")\n",
        "            if (a==0 and b==n-1) or (a==n-1 and b==0):\n",
        "                print(\"\\\\\", end=\"  \")\n",
        "            if (a==n-1 or a==0) and b>0 and b<n-1:\n",
        "                print(\"-\", end=\"  \")\n",
        "            if  (b==n-1 or b==0) and a>0 and a<n-1:\n",
        "                print(\"|\", end=\"  \")\n",
        "            if a!=0 and a!=n-1 and b!=0 and b!=n-1:\n",
        "                print(\" \", end=\"  \")\n",
        "            \n",
        "            \n",
        "        print ( )   \n",
        "        \n",
        "\n",
        "lato=int(input(\"inserisci il valore della base\"))\n",
        "bordo_quadrato(lato)"
      ]
    },
    {
      "cell_type": "code",
      "execution_count": 20,
      "metadata": {
        "id": "2E9Hk9kkv5Mx"
      },
      "outputs": [
        {
          "name": "stdout",
          "output_type": "stream",
          "text": [
            "^\\\n",
            "| \\\n",
            "|  \\\n",
            "|   \\\n",
            "|____\\\n"
          ]
        }
      ],
      "source": [
        "# Es 6.6: Scrivi la funzione trianglo_bello(n) che stampi a schermo un triangolo di cateti n e n formato utilizzando iseguenti caratteri:\n",
        "#.   ^\\\n",
        "#    | \\\n",
        "#.   |  \\\n",
        "#.   |___\\\n",
        "\n",
        "def triangolo_bello(n):\n",
        "    \n",
        "    for a in range(n):\n",
        "        for b in range(a+1):\n",
        "            if b==0:\n",
        "                if a==0:\n",
        "                    print(\"^\", end= \"\")\n",
        "                else:\n",
        "                    print(\"|\", end= \"\")\n",
        "            if b==a:\n",
        "                print(\"\\\\\", end= \"\")\n",
        "            elif a==n-1:\n",
        "                print(\"_\", end=\"\")\n",
        "            else:\n",
        "                print(\" \", end= \"\")\n",
        "        print( )\n",
        "lato=int(input(\"inserisci il valore della base\"))\n",
        "triangolo_bello(lato)"
      ]
    },
    {
      "cell_type": "code",
      "execution_count": 10,
      "metadata": {},
      "outputs": [
        {
          "name": "stdout",
          "output_type": "stream",
          "text": [
            "            * \n",
            "          * * * \n",
            "        * * * * * \n",
            "      * * * * * * * \n",
            "    * * * * * * * * * \n",
            "  * * * * * * * * * * * \n",
            "* * * * * * * * * * * * * \n"
          ]
        }
      ],
      "source": [
        "n= int(input (\"Inserisci il lato del triangolo isoscele\"))\n",
        "\n",
        "def triangolo_isoscele(n):\n",
        "    a= n-1\n",
        "    b= 1\n",
        "    if n > 0:\n",
        "        for altezza in range(n):\n",
        "            for spazi in range(a):\n",
        "                print(\" \", end = \" \")\n",
        "            for triangolino in range(b):\n",
        "                print(\"*\", end= \" \")\n",
        "            a= a-1\n",
        "            b=b+2\n",
        "            print(\"\")\n",
        "    else:\n",
        "        print (\"non esiste un triangolo isoscele con lato negativo\")\n",
        "\n",
        "triangolo_isoscele(n)\n"
      ]
    }
  ],
  "metadata": {
    "colab": {
      "provenance": []
    },
    "kernelspec": {
      "display_name": "Python 3",
      "name": "python3"
    },
    "language_info": {
      "codemirror_mode": {
        "name": "ipython",
        "version": 3
      },
      "file_extension": ".py",
      "mimetype": "text/x-python",
      "name": "python",
      "nbconvert_exporter": "python",
      "pygments_lexer": "ipython3",
      "version": "3.10.8"
    }
  },
  "nbformat": 4,
  "nbformat_minor": 0
}
